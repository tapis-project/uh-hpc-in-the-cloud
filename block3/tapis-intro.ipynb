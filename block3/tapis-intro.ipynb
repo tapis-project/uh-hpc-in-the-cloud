{
 "cells": [
  {
   "cell_type": "markdown",
   "metadata": {},
   "source": [
    "## Tapis Introduction\n",
    "​\n",
    "### Tapis(Formerly Agave) Provides A Cyberinfrastructure Platform For Science Allowing:\n",
    "​\n",
    "#### IDENTITY AND ACCESS MANAGEMENT\n",
    "Leverage OAuth2 and OpenID Connect, the mechanisms in place for controlling and securing access on the web.\n",
    "#### MANAGE ALL YOUR DATA\n",
    "Move, share and publish data using any of the multiple data protocols,such as SFTP and gridFTP, supported by the Platform. \n",
    "#### RUN CODE\n",
    "Run apps as batch, interactive, or event-driven processes depending on specific application needs.  Tapis also tracks the provenance of each run so you can look back and see exactly what parameters, inputs and applications where used to generate an output.\n",
    "#### FIND AND SHARE APPS\n",
    "Use the growing catalog of publicly available apps or design custom apps.\n",
    "​\n",
    "\n",
    "All this is hosted for you, you don't have to stand up your own servers to access any of these features.\n",
    "\n",
    "### A Number of Science Gateways and projects leverage Tapis:\n",
    "​\n",
    "* [Cyverse](https://cyerse.org)\n",
    "* [Design-safe](https://www.designsafe-ci.org/#!#research)\n",
    "* [iMicrobe](https://www.imicrobe.us)\n",
    "* [VDJ](https://vdjserver.org/)\n",
    "* [Ike Wai](ikewai.org)\n",
    "\n",
    "All these gateways leverage Tapis to provide access to data, software and compute resources.\n",
    "​\n",
    "### Tapis is REST and JSON\n",
    "​\n",
    "The Tapis REST APIs enable developers/researchers to create and manage digital laboratories that spans campuses, the cloud, and multiple data centers using a cohesive set of web-friendly interfaces. \n",
    "​\n",
    "That means you can use CURL to access any of the API functions from a command line or scripting environment.\n",
    "​\n",
    "### Tapis tools\n",
    "​\n",
    "While CURL is straightforward it is not the most handy.  Tapis has additional tools to make using it simplier, such as a Command Line Interface (CLI) and a Python library.\n",
    "​\n",
    "These tools make it easier to utilize and build complex workflows and applications with Tapis using some of the programming and scripting skills you may already have.\n",
    "\n",
    "### Tapis can be simple\n",
    "\n",
    "You don't have to do a lot of complex things to use Tapis.  If you just want something to automate taking data from one place and moving it to a compute system, run the computation and then move it back with one command from Tapis - you can do that (We will show you how today).  Maybe others in your lab or department want to do the same thing you can share the application and they can run their data against the same software and compute system as well.\n",
    "​\n",
    "### Full Tapis Documentation\n",
    "​\n",
    "Full documentation and guides for using Tapis can be found here:\n",
    "https://tacc-cloud.readthedocs.io/projects/agave/en/latest/index.html\n",
    "​\n"
   ]
  },
  {
   "cell_type": "code",
   "execution_count": null,
   "metadata": {},
   "outputs": [],
   "source": []
  }
 ],
 "metadata": {
  "kernelspec": {
   "display_name": "Python 3",
   "language": "python",
   "name": "python3"
  },
  "language_info": {
   "codemirror_mode": {
    "name": "ipython",
    "version": 3
   },
   "file_extension": ".py",
   "mimetype": "text/x-python",
   "name": "python",
   "nbconvert_exporter": "python",
   "pygments_lexer": "ipython3",
   "version": "3.7.1"
  }
 },
 "nbformat": 4,
 "nbformat_minor": 2
}
